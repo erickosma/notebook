{
 "cells": [
  {
   "metadata": {},
   "cell_type": "markdown",
   "source": [
    "# Como calcular a inflação implícita e decidir o melhor Tesouro Direto\n",
    "\n",
    "## 1 - Instalar libs"
   ],
   "id": "caea38bd5fd76482"
  },
  {
   "metadata": {
    "ExecuteTime": {
     "end_time": "2025-03-04T18:14:35.176586Z",
     "start_time": "2025-03-04T18:14:34.641517Z"
    }
   },
   "cell_type": "code",
   "source": "!pip install requests beautifulsoup4 pandas tabulate",
   "id": "fdf16cea5b9b122b",
   "outputs": [
    {
     "name": "stdout",
     "output_type": "stream",
     "text": [
      "Requirement already satisfied: requests in /Users/erick.silva/miniconda3/lib/python3.12/site-packages (2.32.3)\r\n",
      "Requirement already satisfied: beautifulsoup4 in /Users/erick.silva/miniconda3/lib/python3.12/site-packages (4.13.3)\r\n",
      "Requirement already satisfied: pandas in /Users/erick.silva/miniconda3/lib/python3.12/site-packages (2.2.3)\r\n",
      "Requirement already satisfied: tabulate in /Users/erick.silva/miniconda3/lib/python3.12/site-packages (0.9.0)\r\n",
      "Requirement already satisfied: charset-normalizer<4,>=2 in /Users/erick.silva/miniconda3/lib/python3.12/site-packages (from requests) (3.3.2)\r\n",
      "Requirement already satisfied: idna<4,>=2.5 in /Users/erick.silva/miniconda3/lib/python3.12/site-packages (from requests) (3.7)\r\n",
      "Requirement already satisfied: urllib3<3,>=1.21.1 in /Users/erick.silva/miniconda3/lib/python3.12/site-packages (from requests) (2.2.2)\r\n",
      "Requirement already satisfied: certifi>=2017.4.17 in /Users/erick.silva/miniconda3/lib/python3.12/site-packages (from requests) (2024.7.4)\r\n",
      "Requirement already satisfied: soupsieve>1.2 in /Users/erick.silva/miniconda3/lib/python3.12/site-packages (from beautifulsoup4) (2.6)\r\n",
      "Requirement already satisfied: typing-extensions>=4.0.0 in /Users/erick.silva/miniconda3/lib/python3.12/site-packages (from beautifulsoup4) (4.12.2)\r\n",
      "Requirement already satisfied: numpy>=1.26.0 in /Users/erick.silva/miniconda3/lib/python3.12/site-packages (from pandas) (2.2.2)\r\n",
      "Requirement already satisfied: python-dateutil>=2.8.2 in /Users/erick.silva/miniconda3/lib/python3.12/site-packages (from pandas) (2.9.0.post0)\r\n",
      "Requirement already satisfied: pytz>=2020.1 in /Users/erick.silva/miniconda3/lib/python3.12/site-packages (from pandas) (2025.1)\r\n",
      "Requirement already satisfied: tzdata>=2022.7 in /Users/erick.silva/miniconda3/lib/python3.12/site-packages (from pandas) (2025.1)\r\n",
      "Requirement already satisfied: six>=1.5 in /Users/erick.silva/miniconda3/lib/python3.12/site-packages (from python-dateutil>=2.8.2->pandas) (1.17.0)\r\n"
     ]
    }
   ],
   "execution_count": 99
  },
  {
   "metadata": {
    "ExecuteTime": {
     "end_time": "2025-03-04T18:14:35.185822Z",
     "start_time": "2025-03-04T18:14:35.183163Z"
    }
   },
   "cell_type": "code",
   "source": [
    "import requests\n",
    "from bs4 import BeautifulSoup\n",
    "import pandas as pd\n",
    "from tabulate import tabulate\n",
    "import re\n",
    "from datetime import datetime\n",
    "import json\n",
    "import logging\n",
    "from typing import Dict, List, Tuple, Optional, Any\n",
    "from IPython.display import display, HTML, Markdown\n",
    "\n",
    "\n",
    "# Configuração de logging\n",
    "logging.basicConfig(\n",
    "    level=logging.INFO,\n",
    "    format='%(asctime)s - %(levelname)s - %(message)s'\n",
    ")\n",
    "logger = logging.getLogger(__name__)\n",
    "\n",
    "# Constantes\n",
    "TESOURO_URL = \"https://www.tesourodireto.com.br/titulos/precos-e-taxas.htm\"\n",
    "TESOURO_API_URL = \"https://www.tesourodireto.com.br/json/br/com/b3/tesourodireto/service/api/treasurybondsinfo.json\"\n",
    "HEADERS = {\n",
    "    \"User-Agent\": \"Mozilla/5.0 (Windows NT 10.0; Win64; x64) AppleWebKit/537.36 (KHTML, like Gecko) Chrome/91.0.4472.124 Safari/537.36\"\n",
    "}"
   ],
   "id": "a23d177d6a63b093",
   "outputs": [],
   "execution_count": 100
  },
  {
   "metadata": {},
   "cell_type": "markdown",
   "source": "## Definindo modelos",
   "id": "af77719fa7e2249e"
  },
  {
   "metadata": {
    "ExecuteTime": {
     "end_time": "2025-03-04T18:14:35.194297Z",
     "start_time": "2025-03-04T18:14:35.190988Z"
    }
   },
   "cell_type": "code",
   "source": [
    "# Tipos de títulos\n",
    "class TipoTitulo:\n",
    "    PREFIXADO = \"Prefixado\"\n",
    "    IPCA = \"IPCA\"\n",
    "\n",
    "# Modelos de dados\n",
    "class Titulo:\n",
    "    def __init__(self, nome: str, vencimento: str, vencimento_data: datetime, rentabilidade: float):\n",
    "        self.nome = nome\n",
    "        self.vencimento = vencimento\n",
    "        self.vencimento_data = vencimento_data\n",
    "        self.rentabilidade = rentabilidade\n",
    "\n",
    "    def to_dict(self) -> Dict[str, Any]:\n",
    "        return {\n",
    "            \"nome\": self.nome,\n",
    "            \"vencimento\": self.vencimento,\n",
    "            \"vencimento_data\": self.vencimento_data,\n",
    "            \"rentabilidade\": self.rentabilidade\n",
    "        }\n",
    "\n",
    "class ResultadoComparativo:\n",
    "    def __init__(\n",
    "        self,\n",
    "        titulo_prefixado: Titulo,\n",
    "        titulo_ipca: Titulo,\n",
    "        inflacao_implicita: float\n",
    "    ):\n",
    "        self.titulo_prefixado = titulo_prefixado\n",
    "        self.titulo_ipca = titulo_ipca\n",
    "        self.inflacao_implicita = inflacao_implicita\n",
    "\n",
    "        # Determinar recomendação com base na inflação implícita\n",
    "        if inflacao_implicita > 5:  # Limite conservador para considerar inflação alta\n",
    "            self.recomendacao = f\"Se você acredita que a inflação será MAIOR que {inflacao_implicita:.2f}%, escolha IPCA+. Caso contrário, escolha Prefixado.\"\n",
    "        else:\n",
    "            self.recomendacao = f\"Se você acredita que a inflação será MENOR que {inflacao_implicita:.2f}%, escolha Prefixado. Caso contrário, escolha IPCA+.\"\n",
    "\n",
    "    def to_dict(self) -> Dict[str, Any]:\n",
    "        return {\n",
    "            \"Título Prefixado\": self.titulo_prefixado.nome,\n",
    "            \"Vencimento Prefixado\": self.titulo_prefixado.vencimento,\n",
    "            \"Taxa Prefixado (%)\": self.titulo_prefixado.rentabilidade,\n",
    "            \"Título IPCA+\": self.titulo_ipca.nome,\n",
    "            \"Vencimento IPCA+\": self.titulo_ipca.vencimento,\n",
    "            \"Taxa IPCA+ (%)\": self.titulo_ipca.rentabilidade,\n",
    "            \"Inflação Implícita (%)\": round(self.inflacao_implicita, 2),\n",
    "            \"Recomendação\": self.recomendacao\n",
    "        }\n"
   ],
   "id": "206275d2e1eeca0a",
   "outputs": [],
   "execution_count": 101
  },
  {
   "metadata": {},
   "cell_type": "markdown",
   "source": [
    "## 2 -Acessa o site do Tesouro Direto para obter os dados atualizados dos títulos\n",
    "## 3 Para cada título prefixado, encontra o título IPCA+ com vencimento mais próximo"
   ],
   "id": "1366044e3831045e"
  },
  {
   "metadata": {
    "ExecuteTime": {
     "end_time": "2025-03-04T18:14:35.209800Z",
     "start_time": "2025-03-04T18:14:35.201425Z"
    }
   },
   "cell_type": "code",
   "source": [
    "class TesouroDiretoExtractor:\n",
    "    \"\"\"Classe para extrair dados do Tesouro Direto utilizando vários métodos\"\"\"\n",
    "\n",
    "    def __init__(self):\n",
    "        self.tesouro_url = \"https://www.tesourodireto.com.br/titulos/precos-e-taxas.htm\"\n",
    "        self.tesouro_api_url = \"https://www.tesourodireto.com.br/json/br/com/b3/tesourodireto/service/api/treasurybondsinfo.json\"\n",
    "        self.headers = {\n",
    "            \"User-Agent\": \"Mozilla/5.0 (Windows NT 10.0; Win64; x64) AppleWebKit/537.36 (KHTML, like Gecko) Chrome/91.0.4472.124 Safari/537.36\"\n",
    "        }\n",
    "        self.titulos_prefixados = []\n",
    "        self.titulos_ipca = []\n",
    "\n",
    "    def _fazer_requisicao(self, url: str) -> Optional[requests.Response]:\n",
    "        \"\"\"Faz uma requisição HTTP para a URL especificada\"\"\"\n",
    "        try:\n",
    "            response = requests.get(url, headers=self.headers)\n",
    "            response.raise_for_status()\n",
    "            return response\n",
    "        except requests.exceptions.RequestException as e:\n",
    "            logger.error(f\"Erro ao acessar a URL {url}: {e}\")\n",
    "            return None\n",
    "\n",
    "    def _extrair_titulos_do_json(self, script_content: str) -> None:\n",
    "        \"\"\"Extrai informações de títulos de um script contendo JSON\"\"\"\n",
    "        try:\n",
    "            json_match = re.search(r'window\\.TD\\.titulos\\s*=\\s*(\\[.*?\\]);', script_content, re.DOTALL)\n",
    "            if not json_match:\n",
    "                return\n",
    "\n",
    "            json_data = json.loads(json_match.group(1))\n",
    "\n",
    "            for titulo_data in json_data:\n",
    "                nome = titulo_data.get('nome', '')\n",
    "                vencimento = titulo_data.get('vencimento', '')\n",
    "\n",
    "                try:\n",
    "                    rentabilidade = float(titulo_data.get('rentabilidade', '0').replace('%', '').replace(',', '.').strip())\n",
    "                except (ValueError, AttributeError):\n",
    "                    rentabilidade = 0\n",
    "\n",
    "                if not vencimento:\n",
    "                    continue\n",
    "\n",
    "                try:\n",
    "                    vencimento_data = datetime.strptime(vencimento, '%d/%m/%Y')\n",
    "                except ValueError:\n",
    "                    try:\n",
    "                        vencimento_data = datetime(int(vencimento), 1, 1)\n",
    "                    except ValueError:\n",
    "                        continue\n",
    "\n",
    "                titulo = Titulo(nome, vencimento, vencimento_data, rentabilidade)\n",
    "\n",
    "                if TipoTitulo.PREFIXADO in nome:\n",
    "                    self.titulos_prefixados.append(titulo)\n",
    "                elif TipoTitulo.IPCA in nome:\n",
    "                    self.titulos_ipca.append(titulo)\n",
    "\n",
    "        except Exception as e:\n",
    "            logger.error(f\"Erro ao extrair dados do script: {e}\")\n",
    "\n",
    "    def _extrair_titulos_de_divs(self, soup: BeautifulSoup) -> None:\n",
    "        \"\"\"Extrai informações de títulos a partir das divs da página\"\"\"\n",
    "        div_titulos = soup.find_all('div', class_=lambda c: c and ('card-title' in c or 'titulo' in c or 'tesouro' in c))\n",
    "\n",
    "        for div in div_titulos:\n",
    "            try:\n",
    "                nome_titulo = div.get_text().strip()\n",
    "                taxa_divs = div.find_next_siblings('div') or div.find_all('div')\n",
    "\n",
    "                for taxa_div in taxa_divs:\n",
    "                    taxa_text = taxa_div.get_text().strip()\n",
    "                    taxa_match = re.search(r'(\\d+[,.]\\d+)\\s*%', taxa_text)\n",
    "\n",
    "                    if not taxa_match:\n",
    "                        continue\n",
    "\n",
    "                    rentabilidade = float(taxa_match.group(1).replace(',', '.'))\n",
    "                    vencimento_match = re.search(r'(\\d{2}/\\d{2}/\\d{4}|20\\d{2})', nome_titulo)\n",
    "\n",
    "                    if not vencimento_match:\n",
    "                        continue\n",
    "\n",
    "                    vencimento = vencimento_match.group(1)\n",
    "\n",
    "                    try:\n",
    "                        if len(vencimento) == 4:  # Apenas o ano\n",
    "                            vencimento_data = datetime(int(vencimento), 1, 1)\n",
    "                        else:\n",
    "                            vencimento_data = datetime.strptime(vencimento, '%d/%m/%Y')\n",
    "                    except ValueError:\n",
    "                        continue\n",
    "\n",
    "                    titulo = Titulo(nome_titulo, vencimento, vencimento_data, rentabilidade)\n",
    "\n",
    "                    if TipoTitulo.PREFIXADO in nome_titulo:\n",
    "                        self.titulos_prefixados.append(titulo)\n",
    "                    elif TipoTitulo.IPCA in nome_titulo:\n",
    "                        self.titulos_ipca.append(titulo)\n",
    "                    break\n",
    "            except Exception as e:\n",
    "                logger.warning(f\"Erro ao processar div: {e}\")\n",
    "\n",
    "    def _extrair_titulos_da_api(self) -> None:\n",
    "        \"\"\"Extrai informações de títulos diretamente da API do Tesouro Direto\"\"\"\n",
    "        response = self._fazer_requisicao(self.tesouro_api_url)\n",
    "        if not response:\n",
    "            return\n",
    "\n",
    "        try:\n",
    "            api_data = response.json()\n",
    "\n",
    "            if 'response' not in api_data or 'TrsrBdTradgList' not in api_data['response']:\n",
    "                return\n",
    "\n",
    "            for item in api_data['response']['TrsrBdTradgList']:\n",
    "                nome = item.get('TrsrBd', {}).get('nm', '')\n",
    "                vencimento = item.get('TrsrBd', {}).get('mtrtyDt', '')\n",
    "                taxa_str = item.get('TrsrBd', {}).get('anulInvstmtRate', '')\n",
    "                if taxa_str or taxa_str == 0.0:\n",
    "                    taxa_str = item.get('TrsrBd', {}).get('anulRedRate', '')\n",
    "\n",
    "                if not nome or not vencimento or taxa_str <= 0.0:\n",
    "                    continue\n",
    "\n",
    "                try:\n",
    "                    taxa = float(taxa_str)\n",
    "                    vencimento_data = datetime.strptime(vencimento.split(\"T\")[0], \"%Y-%m-%d\")\n",
    "                    vencimento_str = vencimento_data.strftime('%d/%m/%Y')\n",
    "\n",
    "                    titulo = Titulo(nome, vencimento_str, vencimento_data, taxa)\n",
    "\n",
    "                    if TipoTitulo.PREFIXADO in nome:\n",
    "                        self.titulos_prefixados.append(titulo)\n",
    "                    elif TipoTitulo.IPCA in nome:\n",
    "                        self.titulos_ipca.append(titulo)\n",
    "                except (ValueError, TypeError) as e:\n",
    "                    logger.warning(f\"Erro ao processar item da API: {e}\")\n",
    "                    continue\n",
    "        except Exception as e:\n",
    "            logger.error(f\"Erro ao acessar API: {e}\")\n",
    "\n",
    "    def extrair_dados(self, usar_dados_exemplo: bool = False) -> Tuple[List[Dict], List[Dict]]:\n",
    "        \"\"\"\n",
    "        Obtém dados do Tesouro Direto usando várias estratégias em cascata\n",
    "\n",
    "        Args:\n",
    "            usar_dados_exemplo: Se True, ignora extração da web e usa dados de exemplo\n",
    "\n",
    "        Returns:\n",
    "            Tupla com duas listas de dicionários: títulos prefixados e títulos IPCA+\n",
    "        \"\"\"\n",
    "        # Limpar dados anteriores\n",
    "        self.titulos_prefixados = []\n",
    "        self.titulos_ipca = []\n",
    "\n",
    "        logger.info(\"Iniciando extração de dados do Tesouro Direto\")\n",
    "\n",
    "        # Tenta fazer requisição para a página principal\n",
    "        response = self._fazer_requisicao(self.tesouro_url)\n",
    "        if not response:\n",
    "            logger.error(\"Não foi possível acessar a página do Tesouro Direto\")\n",
    "            return self._obter_resultado()\n",
    "\n",
    "        # Parsear o conteúdo HTML\n",
    "        soup = BeautifulSoup(response.content, 'html.parser')\n",
    "\n",
    "        # Estratégia 1: Procurar script com dados JSON\n",
    "        logger.info(\"Tentando extração via JSON embutido no script\")\n",
    "        script_tags = soup.find_all('script')\n",
    "        for script in script_tags:\n",
    "            if not script.string or \"window.TD\" not in script.string:\n",
    "                continue\n",
    "            self._extrair_titulos_do_json(script.string)\n",
    "            break\n",
    "\n",
    "        # Se a primeira estratégia não funcionar, tenta a segunda\n",
    "        if not self.titulos_prefixados and not self.titulos_ipca:\n",
    "            logger.info(\"Tentando extração via divs da página\")\n",
    "            self._extrair_titulos_de_divs(soup)\n",
    "\n",
    "        # Se nenhuma das estratégias anteriores funcionou, tenta a API\n",
    "        if not self.titulos_prefixados and not self.titulos_ipca:\n",
    "            logger.info(\"Tentando acesso direto à API\")\n",
    "            self._extrair_titulos_da_api()\n",
    "\n",
    "        logger.info(f\"Extração concluída: {len(self.titulos_prefixados)} títulos prefixados e {len(self.titulos_ipca)} títulos IPCA+\")\n",
    "        return self._obter_resultado()\n",
    "\n",
    "    def _obter_resultado(self) -> Tuple[List[Dict], List[Dict]]:\n",
    "        \"\"\"Retorna os resultados como listas de dicionários\"\"\"\n",
    "        return (\n",
    "            [titulo.to_dict() for titulo in self.titulos_prefixados],\n",
    "            [titulo.to_dict() for titulo in self.titulos_ipca]\n",
    "        )"
   ],
   "id": "6806b6027679d83",
   "outputs": [],
   "execution_count": 102
  },
  {
   "metadata": {},
   "cell_type": "markdown",
   "source": [
    "## 4 Realiza o cálculo da inflação implícita conforme a fórmula que você especificou:\n",
    "    - Soma 1 à taxa do título prefixado\n",
    "    - Soma 1 à taxa do título IPCA+\n",
    "    - Divide o primeiro resultado pelo segundo\n",
    "    - Subtrai 1 do resultado e converte para percentual"
   ],
   "id": "7186a3048b574d76"
  },
  {
   "metadata": {
    "ExecuteTime": {
     "end_time": "2025-03-04T18:14:35.214733Z",
     "start_time": "2025-03-04T18:14:35.212031Z"
    }
   },
   "cell_type": "code",
   "source": [
    "# Funções de cálculo e análise\n",
    "def calcular_comparativo(titulos_prefixados: List[Dict], titulos_ipca: List[Dict]) -> List[Dict]:\n",
    "    \"\"\"Calcula o comparativo entre títulos prefixados e IPCA+\"\"\"\n",
    "    logger.info(\"Calculando comparativos entre títulos\")\n",
    "\n",
    "    resultados = []\n",
    "\n",
    "    if not titulos_prefixados or not titulos_ipca:\n",
    "        logger.warning(\"Não há dados suficientes para calcular o comparativo\")\n",
    "        return resultados\n",
    "\n",
    "    # Ordenar títulos por data de vencimento\n",
    "    titulos_prefixados.sort(key=lambda x: x[\"vencimento_data\"])\n",
    "    titulos_ipca.sort(key=lambda x: x[\"vencimento_data\"])\n",
    "\n",
    "    # Para cada título prefixado, encontrar o IPCA+ mais próximo em termos de vencimento\n",
    "    for prefixado in titulos_prefixados:\n",
    "        # Encontrar o IPCA+ mais próximo\n",
    "        ipca_mais_proximo = None\n",
    "        diferenca_minima = float('inf')\n",
    "\n",
    "        for ipca in titulos_ipca:\n",
    "            diferenca = abs((prefixado[\"vencimento_data\"] - ipca[\"vencimento_data\"]).days)\n",
    "            if diferenca < diferenca_minima:\n",
    "                diferenca_minima = diferenca\n",
    "                ipca_mais_proximo = ipca\n",
    "\n",
    "        if ipca_mais_proximo:\n",
    "            # Calcular a inflação implícita\n",
    "            prefixado_valor = 1 + (prefixado[\"rentabilidade\"] / 100)\n",
    "            ipca_valor = 1 + (ipca_mais_proximo[\"rentabilidade\"] / 100)\n",
    "            resultado = (prefixado_valor / ipca_valor) - 1\n",
    "            resultado_percentual = resultado * 100\n",
    "\n",
    "            # Criar objeto de resultado e converter para dicionário\n",
    "            titulo_prefixado = Titulo(\n",
    "                prefixado[\"nome\"],\n",
    "                prefixado[\"vencimento\"],\n",
    "                prefixado[\"vencimento_data\"],\n",
    "                prefixado[\"rentabilidade\"]\n",
    "            )\n",
    "\n",
    "            titulo_ipca = Titulo(\n",
    "                ipca_mais_proximo[\"nome\"],\n",
    "                ipca_mais_proximo[\"vencimento\"],\n",
    "                ipca_mais_proximo[\"vencimento_data\"],\n",
    "                ipca_mais_proximo[\"rentabilidade\"]\n",
    "            )\n",
    "\n",
    "            comparativo = ResultadoComparativo(\n",
    "                titulo_prefixado,\n",
    "                titulo_ipca,\n",
    "                resultado_percentual\n",
    "            )\n",
    "\n",
    "            resultados.append(comparativo.to_dict())\n",
    "\n",
    "    return resultados"
   ],
   "id": "8a081c1d71f48f85",
   "outputs": [],
   "execution_count": 103
  },
  {
   "metadata": {},
   "cell_type": "markdown",
   "source": "## 5 Apresenta os resultados em uma tabela com as seguintes colunas :",
   "id": "1a468099645a039d"
  },
  {
   "metadata": {
    "ExecuteTime": {
     "end_time": "2025-03-04T18:14:35.612869Z",
     "start_time": "2025-03-04T18:14:35.219866Z"
    }
   },
   "cell_type": "code",
   "source": [
    "# Funções de exibição e relatório\n",
    "def exibir_resultados(resultados: List[Dict]) -> Optional[pd.DataFrame]:\n",
    "    \"\"\"Exibe os resultados da análise de inflação implícita\"\"\"\n",
    "    if not resultados:\n",
    "        logger.warning(\"Não foi possível calcular os resultados devido à falta de dados\")\n",
    "        return None\n",
    "\n",
    "    # Converter para DataFrame\n",
    "    df = pd.DataFrame(resultados)\n",
    "\n",
    "    # Exibir cabeçalho\n",
    "    display(Markdown(\"# ANÁLISE DE INFLAÇÃO IMPLÍCITA NO TESOURO DIRETO\"))\n",
    "\n",
    "    # Criar uma versão simplificada para exibição\n",
    "    df_display = df[[\"Título Prefixado\", \"Taxa Prefixado (%)\",\n",
    "                     \"Título IPCA+\", \"Taxa IPCA+ (%)\",\n",
    "                     \"Inflação Implícita (%)\"]]\n",
    "\n",
    "    # print(tabulate(df_display, headers='keys', tablefmt='grid', showindex=False))\n",
    "    html_table = df_display.to_html(index=False)\n",
    "    display(HTML(html_table))\n",
    "\n",
    "\n",
    "    # Exibir explicação e recomendação para cada par de títulos\n",
    "    display(Markdown(\"# INTERPRETAÇÃO E RECOMENDAÇÃO\"))\n",
    "\n",
    "    for i, row in enumerate(resultados):\n",
    "        display(Markdown(f\"### Par {i+1}: {row['Título Prefixado']} vs {row['Título IPCA+']} \\n\"))\n",
    "        display(Markdown(f\"Inflação Implícita: **{row['Inflação Implícita (%)']:.2f}%**\"))\n",
    "        display(Markdown(\"O que significa: Este é o valor médio anual do IPCA até o vencimento\"))\n",
    "        display(Markdown(\"que o mercado está prevendo implicitamente.\"))\n",
    "        display(Markdown(f\"Recomendação: **{row['Recomendação']}**\"))\n",
    "        display(Markdown(\"<hr>\"))\n",
    "\n",
    "    # Explicação adicional\n",
    "    display(Markdown(\"## EXPLICAÇÃO DETALHADA:\"))\n",
    "    display(Markdown(\"\"\"\n",
    "A inflação implícita representa quanto o mercado acha que será o IPCA médio anual até o vencimento do título.\n",
    "\n",
    "ESTRATÉGIA DE INVESTIMENTO:\n",
    "- Se você acredita que a inflação média anual será MAIOR que a inflação implícita,\n",
    "  o melhor negócio é investir no título indexado ao IPCA.\n",
    "- Se você acredita que a inflação média anual será MENOR que a inflação implícita,\n",
    "  o título prefixado é a escolha mais rentável.\n",
    "\n",
    "Esta estratégia vale para qualquer título de renda fixa, desde que tenham o mesmo prazo e emissor.\n",
    "Isso garante que você está comparando ativos com níveis de risco similares.\n",
    "    \"\"\"))\n",
    "\n",
    "    # Retornar também o DataFrame para possível uso posterior\n",
    "    return df\n",
    "# Função principal\n",
    "def main() -> None:\n",
    "    \"\"\"Função principal do programa\"\"\"\n",
    "    extractor = TesouroDiretoExtractor()\n",
    "\n",
    "\n",
    "    try:\n",
    "        # Obter dados do Tesouro Direto\n",
    "        titulos_prefixados, titulos_ipca = extractor.extrair_dados()\n",
    "\n",
    "        # Se não conseguiu obter dados, usar dados de exemplo\n",
    "        if not titulos_prefixados or not titulos_ipca:\n",
    "            logger.warning(\"Não foi possível obter dados reais. Usando dados de exemplo.\")\n",
    "\n",
    "        # Calcular o comparativo\n",
    "        resultados = calcular_comparativo(titulos_prefixados, titulos_ipca)\n",
    "\n",
    "        # Exibir resultados\n",
    "        df_resultados = exibir_resultados(resultados)\n",
    "\n",
    "    except Exception as e:\n",
    "        logger.error(f\"Erro inesperado na execução do programa: {e}\")\n",
    "\n",
    "if __name__ == \"__main__\":\n",
    "    main()"
   ],
   "id": "b77922995f86985e",
   "outputs": [
    {
     "name": "stderr",
     "output_type": "stream",
     "text": [
      "2025-03-04 15:14:35,221 - INFO - Iniciando extração de dados do Tesouro Direto\n",
      "2025-03-04 15:14:35,454 - INFO - Tentando extração via JSON embutido no script\n",
      "2025-03-04 15:14:35,455 - INFO - Tentando extração via divs da página\n",
      "2025-03-04 15:14:35,456 - INFO - Tentando acesso direto à API\n",
      "2025-03-04 15:14:35,571 - INFO - Extração concluída: 11 títulos prefixados e 15 títulos IPCA+\n",
      "2025-03-04 15:14:35,572 - INFO - Calculando comparativos entre títulos\n"
     ]
    },
    {
     "data": {
      "text/plain": [
       "<IPython.core.display.Markdown object>"
      ],
      "text/markdown": "# ANÁLISE DE INFLAÇÃO IMPLÍCITA NO TESOURO DIRETO"
     },
     "metadata": {},
     "output_type": "display_data"
    },
    {
     "data": {
      "text/plain": [
       "<IPython.core.display.HTML object>"
      ],
      "text/html": [
       "<table border=\"1\" class=\"dataframe\">\n",
       "  <thead>\n",
       "    <tr style=\"text-align: right;\">\n",
       "      <th>Título Prefixado</th>\n",
       "      <th>Taxa Prefixado (%)</th>\n",
       "      <th>Título IPCA+</th>\n",
       "      <th>Taxa IPCA+ (%)</th>\n",
       "      <th>Inflação Implícita (%)</th>\n",
       "    </tr>\n",
       "  </thead>\n",
       "  <tbody>\n",
       "    <tr>\n",
       "      <td>Tesouro Prefixado 2026</td>\n",
       "      <td>15.00</td>\n",
       "      <td>Tesouro IPCA+ 2026</td>\n",
       "      <td>8.22</td>\n",
       "      <td>6.27</td>\n",
       "    </tr>\n",
       "    <tr>\n",
       "      <td>Tesouro Prefixado 2027</td>\n",
       "      <td>15.14</td>\n",
       "      <td>Tesouro IPCA+ 2026</td>\n",
       "      <td>8.22</td>\n",
       "      <td>6.39</td>\n",
       "    </tr>\n",
       "    <tr>\n",
       "      <td>Tesouro Prefixado com Juros Semestrais 2027</td>\n",
       "      <td>15.13</td>\n",
       "      <td>Tesouro IPCA+ 2026</td>\n",
       "      <td>8.22</td>\n",
       "      <td>6.39</td>\n",
       "    </tr>\n",
       "    <tr>\n",
       "      <td>Tesouro Prefixado 2028</td>\n",
       "      <td>15.13</td>\n",
       "      <td>Tesouro IPCA+ 2029</td>\n",
       "      <td>7.88</td>\n",
       "      <td>6.72</td>\n",
       "    </tr>\n",
       "    <tr>\n",
       "      <td>Tesouro Prefixado 2029</td>\n",
       "      <td>15.26</td>\n",
       "      <td>Tesouro IPCA+ 2029</td>\n",
       "      <td>7.88</td>\n",
       "      <td>6.84</td>\n",
       "    </tr>\n",
       "    <tr>\n",
       "      <td>Tesouro Prefixado com Juros Semestrais 2029</td>\n",
       "      <td>15.28</td>\n",
       "      <td>Tesouro IPCA+ 2029</td>\n",
       "      <td>7.88</td>\n",
       "      <td>6.86</td>\n",
       "    </tr>\n",
       "    <tr>\n",
       "      <td>Tesouro Prefixado 2031</td>\n",
       "      <td>15.36</td>\n",
       "      <td>Tesouro IPCA+ com Juros Semestrais 2030</td>\n",
       "      <td>7.99</td>\n",
       "      <td>6.82</td>\n",
       "    </tr>\n",
       "    <tr>\n",
       "      <td>Tesouro Prefixado com Juros Semestrais 2031</td>\n",
       "      <td>15.45</td>\n",
       "      <td>Tesouro IPCA+ com Juros Semestrais 2030</td>\n",
       "      <td>7.99</td>\n",
       "      <td>6.91</td>\n",
       "    </tr>\n",
       "    <tr>\n",
       "      <td>Tesouro Prefixado 2032</td>\n",
       "      <td>15.37</td>\n",
       "      <td>Tesouro IPCA+ com Juros Semestrais 2032</td>\n",
       "      <td>8.05</td>\n",
       "      <td>6.77</td>\n",
       "    </tr>\n",
       "    <tr>\n",
       "      <td>Tesouro Prefixado com Juros Semestrais 2033</td>\n",
       "      <td>15.36</td>\n",
       "      <td>Tesouro IPCA+ com Juros Semestrais 2032</td>\n",
       "      <td>8.05</td>\n",
       "      <td>6.77</td>\n",
       "    </tr>\n",
       "    <tr>\n",
       "      <td>Tesouro Prefixado com Juros Semestrais 2035</td>\n",
       "      <td>15.39</td>\n",
       "      <td>Tesouro IPCA+ 2035</td>\n",
       "      <td>7.96</td>\n",
       "      <td>6.88</td>\n",
       "    </tr>\n",
       "  </tbody>\n",
       "</table>"
      ]
     },
     "metadata": {},
     "output_type": "display_data"
    },
    {
     "data": {
      "text/plain": [
       "<IPython.core.display.Markdown object>"
      ],
      "text/markdown": "# INTERPRETAÇÃO E RECOMENDAÇÃO"
     },
     "metadata": {},
     "output_type": "display_data"
    },
    {
     "data": {
      "text/plain": [
       "<IPython.core.display.Markdown object>"
      ],
      "text/markdown": "### Par 1: Tesouro Prefixado 2026 vs Tesouro IPCA+ 2026 \n"
     },
     "metadata": {},
     "output_type": "display_data"
    },
    {
     "data": {
      "text/plain": [
       "<IPython.core.display.Markdown object>"
      ],
      "text/markdown": "Inflação Implícita: **6.27%**"
     },
     "metadata": {},
     "output_type": "display_data"
    },
    {
     "data": {
      "text/plain": [
       "<IPython.core.display.Markdown object>"
      ],
      "text/markdown": "O que significa: Este é o valor médio anual do IPCA até o vencimento"
     },
     "metadata": {},
     "output_type": "display_data"
    },
    {
     "data": {
      "text/plain": [
       "<IPython.core.display.Markdown object>"
      ],
      "text/markdown": "que o mercado está prevendo implicitamente."
     },
     "metadata": {},
     "output_type": "display_data"
    },
    {
     "data": {
      "text/plain": [
       "<IPython.core.display.Markdown object>"
      ],
      "text/markdown": "Recomendação: **Se você acredita que a inflação será MAIOR que 6.27%, escolha IPCA+. Caso contrário, escolha Prefixado.**"
     },
     "metadata": {},
     "output_type": "display_data"
    },
    {
     "data": {
      "text/plain": [
       "<IPython.core.display.Markdown object>"
      ],
      "text/markdown": "<hr>"
     },
     "metadata": {},
     "output_type": "display_data"
    },
    {
     "data": {
      "text/plain": [
       "<IPython.core.display.Markdown object>"
      ],
      "text/markdown": "### Par 2: Tesouro Prefixado 2027 vs Tesouro IPCA+ 2026 \n"
     },
     "metadata": {},
     "output_type": "display_data"
    },
    {
     "data": {
      "text/plain": [
       "<IPython.core.display.Markdown object>"
      ],
      "text/markdown": "Inflação Implícita: **6.39%**"
     },
     "metadata": {},
     "output_type": "display_data"
    },
    {
     "data": {
      "text/plain": [
       "<IPython.core.display.Markdown object>"
      ],
      "text/markdown": "O que significa: Este é o valor médio anual do IPCA até o vencimento"
     },
     "metadata": {},
     "output_type": "display_data"
    },
    {
     "data": {
      "text/plain": [
       "<IPython.core.display.Markdown object>"
      ],
      "text/markdown": "que o mercado está prevendo implicitamente."
     },
     "metadata": {},
     "output_type": "display_data"
    },
    {
     "data": {
      "text/plain": [
       "<IPython.core.display.Markdown object>"
      ],
      "text/markdown": "Recomendação: **Se você acredita que a inflação será MAIOR que 6.39%, escolha IPCA+. Caso contrário, escolha Prefixado.**"
     },
     "metadata": {},
     "output_type": "display_data"
    },
    {
     "data": {
      "text/plain": [
       "<IPython.core.display.Markdown object>"
      ],
      "text/markdown": "<hr>"
     },
     "metadata": {},
     "output_type": "display_data"
    },
    {
     "data": {
      "text/plain": [
       "<IPython.core.display.Markdown object>"
      ],
      "text/markdown": "### Par 3: Tesouro Prefixado com Juros Semestrais 2027 vs Tesouro IPCA+ 2026 \n"
     },
     "metadata": {},
     "output_type": "display_data"
    },
    {
     "data": {
      "text/plain": [
       "<IPython.core.display.Markdown object>"
      ],
      "text/markdown": "Inflação Implícita: **6.39%**"
     },
     "metadata": {},
     "output_type": "display_data"
    },
    {
     "data": {
      "text/plain": [
       "<IPython.core.display.Markdown object>"
      ],
      "text/markdown": "O que significa: Este é o valor médio anual do IPCA até o vencimento"
     },
     "metadata": {},
     "output_type": "display_data"
    },
    {
     "data": {
      "text/plain": [
       "<IPython.core.display.Markdown object>"
      ],
      "text/markdown": "que o mercado está prevendo implicitamente."
     },
     "metadata": {},
     "output_type": "display_data"
    },
    {
     "data": {
      "text/plain": [
       "<IPython.core.display.Markdown object>"
      ],
      "text/markdown": "Recomendação: **Se você acredita que a inflação será MAIOR que 6.39%, escolha IPCA+. Caso contrário, escolha Prefixado.**"
     },
     "metadata": {},
     "output_type": "display_data"
    },
    {
     "data": {
      "text/plain": [
       "<IPython.core.display.Markdown object>"
      ],
      "text/markdown": "<hr>"
     },
     "metadata": {},
     "output_type": "display_data"
    },
    {
     "data": {
      "text/plain": [
       "<IPython.core.display.Markdown object>"
      ],
      "text/markdown": "### Par 4: Tesouro Prefixado 2028 vs Tesouro IPCA+ 2029 \n"
     },
     "metadata": {},
     "output_type": "display_data"
    },
    {
     "data": {
      "text/plain": [
       "<IPython.core.display.Markdown object>"
      ],
      "text/markdown": "Inflação Implícita: **6.72%**"
     },
     "metadata": {},
     "output_type": "display_data"
    },
    {
     "data": {
      "text/plain": [
       "<IPython.core.display.Markdown object>"
      ],
      "text/markdown": "O que significa: Este é o valor médio anual do IPCA até o vencimento"
     },
     "metadata": {},
     "output_type": "display_data"
    },
    {
     "data": {
      "text/plain": [
       "<IPython.core.display.Markdown object>"
      ],
      "text/markdown": "que o mercado está prevendo implicitamente."
     },
     "metadata": {},
     "output_type": "display_data"
    },
    {
     "data": {
      "text/plain": [
       "<IPython.core.display.Markdown object>"
      ],
      "text/markdown": "Recomendação: **Se você acredita que a inflação será MAIOR que 6.72%, escolha IPCA+. Caso contrário, escolha Prefixado.**"
     },
     "metadata": {},
     "output_type": "display_data"
    },
    {
     "data": {
      "text/plain": [
       "<IPython.core.display.Markdown object>"
      ],
      "text/markdown": "<hr>"
     },
     "metadata": {},
     "output_type": "display_data"
    },
    {
     "data": {
      "text/plain": [
       "<IPython.core.display.Markdown object>"
      ],
      "text/markdown": "### Par 5: Tesouro Prefixado 2029 vs Tesouro IPCA+ 2029 \n"
     },
     "metadata": {},
     "output_type": "display_data"
    },
    {
     "data": {
      "text/plain": [
       "<IPython.core.display.Markdown object>"
      ],
      "text/markdown": "Inflação Implícita: **6.84%**"
     },
     "metadata": {},
     "output_type": "display_data"
    },
    {
     "data": {
      "text/plain": [
       "<IPython.core.display.Markdown object>"
      ],
      "text/markdown": "O que significa: Este é o valor médio anual do IPCA até o vencimento"
     },
     "metadata": {},
     "output_type": "display_data"
    },
    {
     "data": {
      "text/plain": [
       "<IPython.core.display.Markdown object>"
      ],
      "text/markdown": "que o mercado está prevendo implicitamente."
     },
     "metadata": {},
     "output_type": "display_data"
    },
    {
     "data": {
      "text/plain": [
       "<IPython.core.display.Markdown object>"
      ],
      "text/markdown": "Recomendação: **Se você acredita que a inflação será MAIOR que 6.84%, escolha IPCA+. Caso contrário, escolha Prefixado.**"
     },
     "metadata": {},
     "output_type": "display_data"
    },
    {
     "data": {
      "text/plain": [
       "<IPython.core.display.Markdown object>"
      ],
      "text/markdown": "<hr>"
     },
     "metadata": {},
     "output_type": "display_data"
    },
    {
     "data": {
      "text/plain": [
       "<IPython.core.display.Markdown object>"
      ],
      "text/markdown": "### Par 6: Tesouro Prefixado com Juros Semestrais 2029 vs Tesouro IPCA+ 2029 \n"
     },
     "metadata": {},
     "output_type": "display_data"
    },
    {
     "data": {
      "text/plain": [
       "<IPython.core.display.Markdown object>"
      ],
      "text/markdown": "Inflação Implícita: **6.86%**"
     },
     "metadata": {},
     "output_type": "display_data"
    },
    {
     "data": {
      "text/plain": [
       "<IPython.core.display.Markdown object>"
      ],
      "text/markdown": "O que significa: Este é o valor médio anual do IPCA até o vencimento"
     },
     "metadata": {},
     "output_type": "display_data"
    },
    {
     "data": {
      "text/plain": [
       "<IPython.core.display.Markdown object>"
      ],
      "text/markdown": "que o mercado está prevendo implicitamente."
     },
     "metadata": {},
     "output_type": "display_data"
    },
    {
     "data": {
      "text/plain": [
       "<IPython.core.display.Markdown object>"
      ],
      "text/markdown": "Recomendação: **Se você acredita que a inflação será MAIOR que 6.86%, escolha IPCA+. Caso contrário, escolha Prefixado.**"
     },
     "metadata": {},
     "output_type": "display_data"
    },
    {
     "data": {
      "text/plain": [
       "<IPython.core.display.Markdown object>"
      ],
      "text/markdown": "<hr>"
     },
     "metadata": {},
     "output_type": "display_data"
    },
    {
     "data": {
      "text/plain": [
       "<IPython.core.display.Markdown object>"
      ],
      "text/markdown": "### Par 7: Tesouro Prefixado 2031 vs Tesouro IPCA+ com Juros Semestrais 2030 \n"
     },
     "metadata": {},
     "output_type": "display_data"
    },
    {
     "data": {
      "text/plain": [
       "<IPython.core.display.Markdown object>"
      ],
      "text/markdown": "Inflação Implícita: **6.82%**"
     },
     "metadata": {},
     "output_type": "display_data"
    },
    {
     "data": {
      "text/plain": [
       "<IPython.core.display.Markdown object>"
      ],
      "text/markdown": "O que significa: Este é o valor médio anual do IPCA até o vencimento"
     },
     "metadata": {},
     "output_type": "display_data"
    },
    {
     "data": {
      "text/plain": [
       "<IPython.core.display.Markdown object>"
      ],
      "text/markdown": "que o mercado está prevendo implicitamente."
     },
     "metadata": {},
     "output_type": "display_data"
    },
    {
     "data": {
      "text/plain": [
       "<IPython.core.display.Markdown object>"
      ],
      "text/markdown": "Recomendação: **Se você acredita que a inflação será MAIOR que 6.82%, escolha IPCA+. Caso contrário, escolha Prefixado.**"
     },
     "metadata": {},
     "output_type": "display_data"
    },
    {
     "data": {
      "text/plain": [
       "<IPython.core.display.Markdown object>"
      ],
      "text/markdown": "<hr>"
     },
     "metadata": {},
     "output_type": "display_data"
    },
    {
     "data": {
      "text/plain": [
       "<IPython.core.display.Markdown object>"
      ],
      "text/markdown": "### Par 8: Tesouro Prefixado com Juros Semestrais 2031 vs Tesouro IPCA+ com Juros Semestrais 2030 \n"
     },
     "metadata": {},
     "output_type": "display_data"
    },
    {
     "data": {
      "text/plain": [
       "<IPython.core.display.Markdown object>"
      ],
      "text/markdown": "Inflação Implícita: **6.91%**"
     },
     "metadata": {},
     "output_type": "display_data"
    },
    {
     "data": {
      "text/plain": [
       "<IPython.core.display.Markdown object>"
      ],
      "text/markdown": "O que significa: Este é o valor médio anual do IPCA até o vencimento"
     },
     "metadata": {},
     "output_type": "display_data"
    },
    {
     "data": {
      "text/plain": [
       "<IPython.core.display.Markdown object>"
      ],
      "text/markdown": "que o mercado está prevendo implicitamente."
     },
     "metadata": {},
     "output_type": "display_data"
    },
    {
     "data": {
      "text/plain": [
       "<IPython.core.display.Markdown object>"
      ],
      "text/markdown": "Recomendação: **Se você acredita que a inflação será MAIOR que 6.91%, escolha IPCA+. Caso contrário, escolha Prefixado.**"
     },
     "metadata": {},
     "output_type": "display_data"
    },
    {
     "data": {
      "text/plain": [
       "<IPython.core.display.Markdown object>"
      ],
      "text/markdown": "<hr>"
     },
     "metadata": {},
     "output_type": "display_data"
    },
    {
     "data": {
      "text/plain": [
       "<IPython.core.display.Markdown object>"
      ],
      "text/markdown": "### Par 9: Tesouro Prefixado 2032 vs Tesouro IPCA+ com Juros Semestrais 2032 \n"
     },
     "metadata": {},
     "output_type": "display_data"
    },
    {
     "data": {
      "text/plain": [
       "<IPython.core.display.Markdown object>"
      ],
      "text/markdown": "Inflação Implícita: **6.77%**"
     },
     "metadata": {},
     "output_type": "display_data"
    },
    {
     "data": {
      "text/plain": [
       "<IPython.core.display.Markdown object>"
      ],
      "text/markdown": "O que significa: Este é o valor médio anual do IPCA até o vencimento"
     },
     "metadata": {},
     "output_type": "display_data"
    },
    {
     "data": {
      "text/plain": [
       "<IPython.core.display.Markdown object>"
      ],
      "text/markdown": "que o mercado está prevendo implicitamente."
     },
     "metadata": {},
     "output_type": "display_data"
    },
    {
     "data": {
      "text/plain": [
       "<IPython.core.display.Markdown object>"
      ],
      "text/markdown": "Recomendação: **Se você acredita que a inflação será MAIOR que 6.77%, escolha IPCA+. Caso contrário, escolha Prefixado.**"
     },
     "metadata": {},
     "output_type": "display_data"
    },
    {
     "data": {
      "text/plain": [
       "<IPython.core.display.Markdown object>"
      ],
      "text/markdown": "<hr>"
     },
     "metadata": {},
     "output_type": "display_data"
    },
    {
     "data": {
      "text/plain": [
       "<IPython.core.display.Markdown object>"
      ],
      "text/markdown": "### Par 10: Tesouro Prefixado com Juros Semestrais 2033 vs Tesouro IPCA+ com Juros Semestrais 2032 \n"
     },
     "metadata": {},
     "output_type": "display_data"
    },
    {
     "data": {
      "text/plain": [
       "<IPython.core.display.Markdown object>"
      ],
      "text/markdown": "Inflação Implícita: **6.77%**"
     },
     "metadata": {},
     "output_type": "display_data"
    },
    {
     "data": {
      "text/plain": [
       "<IPython.core.display.Markdown object>"
      ],
      "text/markdown": "O que significa: Este é o valor médio anual do IPCA até o vencimento"
     },
     "metadata": {},
     "output_type": "display_data"
    },
    {
     "data": {
      "text/plain": [
       "<IPython.core.display.Markdown object>"
      ],
      "text/markdown": "que o mercado está prevendo implicitamente."
     },
     "metadata": {},
     "output_type": "display_data"
    },
    {
     "data": {
      "text/plain": [
       "<IPython.core.display.Markdown object>"
      ],
      "text/markdown": "Recomendação: **Se você acredita que a inflação será MAIOR que 6.77%, escolha IPCA+. Caso contrário, escolha Prefixado.**"
     },
     "metadata": {},
     "output_type": "display_data"
    },
    {
     "data": {
      "text/plain": [
       "<IPython.core.display.Markdown object>"
      ],
      "text/markdown": "<hr>"
     },
     "metadata": {},
     "output_type": "display_data"
    },
    {
     "data": {
      "text/plain": [
       "<IPython.core.display.Markdown object>"
      ],
      "text/markdown": "### Par 11: Tesouro Prefixado com Juros Semestrais 2035 vs Tesouro IPCA+ 2035 \n"
     },
     "metadata": {},
     "output_type": "display_data"
    },
    {
     "data": {
      "text/plain": [
       "<IPython.core.display.Markdown object>"
      ],
      "text/markdown": "Inflação Implícita: **6.88%**"
     },
     "metadata": {},
     "output_type": "display_data"
    },
    {
     "data": {
      "text/plain": [
       "<IPython.core.display.Markdown object>"
      ],
      "text/markdown": "O que significa: Este é o valor médio anual do IPCA até o vencimento"
     },
     "metadata": {},
     "output_type": "display_data"
    },
    {
     "data": {
      "text/plain": [
       "<IPython.core.display.Markdown object>"
      ],
      "text/markdown": "que o mercado está prevendo implicitamente."
     },
     "metadata": {},
     "output_type": "display_data"
    },
    {
     "data": {
      "text/plain": [
       "<IPython.core.display.Markdown object>"
      ],
      "text/markdown": "Recomendação: **Se você acredita que a inflação será MAIOR que 6.88%, escolha IPCA+. Caso contrário, escolha Prefixado.**"
     },
     "metadata": {},
     "output_type": "display_data"
    },
    {
     "data": {
      "text/plain": [
       "<IPython.core.display.Markdown object>"
      ],
      "text/markdown": "<hr>"
     },
     "metadata": {},
     "output_type": "display_data"
    },
    {
     "data": {
      "text/plain": [
       "<IPython.core.display.Markdown object>"
      ],
      "text/markdown": "## EXPLICAÇÃO DETALHADA:"
     },
     "metadata": {},
     "output_type": "display_data"
    },
    {
     "data": {
      "text/plain": [
       "<IPython.core.display.Markdown object>"
      ],
      "text/markdown": "\nA inflação implícita representa quanto o mercado acha que será o IPCA médio anual até o vencimento do título.\n\nESTRATÉGIA DE INVESTIMENTO:\n- Se você acredita que a inflação média anual será MAIOR que a inflação implícita,\n  o melhor negócio é investir no título indexado ao IPCA.\n- Se você acredita que a inflação média anual será MENOR que a inflação implícita,\n  o título prefixado é a escolha mais rentável.\n\nEsta estratégia vale para qualquer título de renda fixa, desde que tenham o mesmo prazo e emissor.\nIsso garante que você está comparando ativos com níveis de risco similares.\n    "
     },
     "metadata": {},
     "output_type": "display_data"
    }
   ],
   "execution_count": 104
  }
 ],
 "metadata": {
  "kernelspec": {
   "display_name": "Python 3",
   "language": "python",
   "name": "python3"
  },
  "language_info": {
   "codemirror_mode": {
    "name": "ipython",
    "version": 2
   },
   "file_extension": ".py",
   "mimetype": "text/x-python",
   "name": "python",
   "nbconvert_exporter": "python",
   "pygments_lexer": "ipython2",
   "version": "2.7.6"
  }
 },
 "nbformat": 4,
 "nbformat_minor": 5
}
